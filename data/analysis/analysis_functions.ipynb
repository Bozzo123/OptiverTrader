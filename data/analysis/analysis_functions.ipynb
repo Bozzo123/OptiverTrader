{
 "cells": [
  {
   "cell_type": "code",
   "execution_count": 4,
   "metadata": {},
   "outputs": [],
   "source": [
    "#import g\n",
    "import pandas as pd\n",
    "import numpy as np\n",
    "import math\n",
    "import matplotlib.pyplot as plt\n",
    "from matplotlib import figure"
   ]
  },
  {
   "cell_type": "code",
   "execution_count": 5,
   "metadata": {},
   "outputs": [],
   "source": [
    "#function that puts the log file that we want into an array\n",
    "def readMidpointLog(filepath):\n",
    "    \"\"\"Returns two arrays, the ETF , and Future midpoints\"\"\"\n",
    "    midpoint_data = pd.read_csv(filepath)\n",
    "    midpoint_data.columns = ['Instrument','Price']\n",
    "\n",
    "    # Split dataframe into seperate instruments\n",
    "    future_midpoint_price = midpoint_data[midpoint_data['Instrument'] == 0]\n",
    "    etf_midpoint_price = midpoint_data[midpoint_data['Instrument'] == 1] \n",
    "\n",
    "    future_midpoint_price = future_midpoint_price.reset_index()\n",
    "    future_midpoint_price = future_midpoint_price['Price'][:-1]\n",
    "\n",
    "    etf_midpoint_price = etf_midpoint_price.reset_index()\n",
    "    etf_midpoint_price = etf_midpoint_price['Price']\n",
    "\n",
    "    return(future_midpoint_price,etf_midpoint_price)\n"
   ]
  },
  {
   "cell_type": "code",
   "execution_count": 7,
   "metadata": {},
   "outputs": [],
   "source": [
    "#function that plots a ratio graph\n",
    "def ratioGraph(data1,data2):\n",
    "    \"\"\"Ratio graph data1/data2\"\"\"\n",
    "    figure(figsize=(8, 6), dpi=200)\n",
    "    ratio = data1 / data2\n",
    "    plt.plot(ratio, label = 'Price Ratio (%d / %d))'%(data1,data2))\n",
    "    plt.axhline(ratio.mean(), color='red')\n",
    "    plt.legend()\n",
    "    plt.title(\"Price Ratio between %d and %d\"%(data1,data2))\n"
   ]
  },
  {
   "cell_type": "code",
   "execution_count": 8,
   "metadata": {},
   "outputs": [],
   "source": [
    "def zScoreGraph(data1,data2):\n",
    "    \"\"\"Ratio = data1/data2\"\"\"\n",
    "    ratio = data1/data2\n",
    "    # Calculate the Zscores of each row.\n",
    "    df_zscore = (ratio - ratio.mean())/ratio.std()\n",
    "    plt.plot(df_zscore, label = \"Z Scores\")\n",
    "    plt.axhline(df_zscore.mean(), color = 'black')\n",
    "    plt.axhline(1.0, color='red') # Setting the upper and lower bounds to be the z score of 1 and -1 (1/-1 standard deviation)\n",
    "    plt.axhline(1.25, color='red') # 95% of our data will lie between these bounds.\n",
    "    plt.axhline(-1.0, color='green') # 68% of our data will lie between these bounds.\n",
    "    plt.axhline(-1.25, color='green') # 95% of our data will lie between these bounds.\n",
    "    plt.legend(loc = 'best')\n",
    "    plt.title('Z score of Ratio of Future to ETF')\n",
    "    plt.show()\n",
    "\n"
   ]
  },
  {
   "cell_type": "code",
   "execution_count": null,
   "metadata": {},
   "outputs": [],
   "source": []
  }
 ],
 "metadata": {
  "kernelspec": {
   "display_name": "Python 3",
   "language": "python",
   "name": "python3"
  },
  "language_info": {
   "codemirror_mode": {
    "name": "ipython",
    "version": 3
   },
   "file_extension": ".py",
   "mimetype": "text/x-python",
   "name": "python",
   "nbconvert_exporter": "python",
   "pygments_lexer": "ipython3",
   "version": "3.10.10"
  },
  "orig_nbformat": 4
 },
 "nbformat": 4,
 "nbformat_minor": 2
}
