{
 "cells": [
  {
   "attachments": {},
   "cell_type": "markdown",
   "metadata": {},
   "source": [
    "# Moving graph\n",
    "\n",
    "The point of this will be to see if we can incorporate some z-score analysis in a real-time environment"
   ]
  },
  {
   "cell_type": "code",
   "execution_count": 30,
   "metadata": {},
   "outputs": [],
   "source": [
    "import pandas as pd\n",
    "import numpy as np\n",
    "import math\n",
    "import matplotlib.pyplot as plt\n",
    "from matplotlib import figure\n",
    "import csv"
   ]
  },
  {
   "cell_type": "code",
   "execution_count": 52,
   "metadata": {},
   "outputs": [
    {
     "name": "stdout",
     "output_type": "stream",
     "text": [
      "[[0.0 0 'Insert' ... 1000.0 1469.0 'G']\n",
      " [0.0 0 'Insert' ... 8000.0 1470.0 'G']\n",
      " [0.0 0 'Insert' ... 3000.0 1472.0 'G']\n",
      " ...\n",
      " [899.90242 0 'Insert' ... 1000.0 1501.0 'G']\n",
      " [899.955806 0 'Insert' ... 1000.0 1533.0 'G']\n",
      " [899.962162 0 'Cancel' ... nan nan 'G']]\n"
     ]
    }
   ],
   "source": [
    "def readMarketData(filepath):\n",
    "    df = pd.read_csv(filepath)\n",
    "    market_data = df.values\n",
    "    return(market_data)\n",
    "\n",
    "MarketData1 = readMarketData(\"../market_data1.csv\")\n",
    "print(MarketData1)\n"
   ]
  },
  {
   "cell_type": "code",
   "execution_count": 59,
   "metadata": {},
   "outputs": [
    {
     "ename": "KeyboardInterrupt",
     "evalue": "",
     "output_type": "error",
     "traceback": [
      "\u001b[1;31m---------------------------------------------------------------------------\u001b[0m",
      "\u001b[1;31mKeyboardInterrupt\u001b[0m                         Traceback (most recent call last)",
      "Cell \u001b[1;32mIn[59], line 58\u001b[0m\n\u001b[0;32m     54\u001b[0m             \u001b[39mprint\u001b[39m(\u001b[39m\"\u001b[39m\u001b[39mError with order \u001b[39m\u001b[39m\"\u001b[39m,Order[\u001b[39m3\u001b[39m],\u001b[39m\"\u001b[39m\u001b[39m: unidentified instrument\u001b[39m\u001b[39m\"\u001b[39m)\n\u001b[0;32m     56\u001b[0m     \u001b[39mprint\u001b[39m(bidFuture)\n\u001b[1;32m---> 58\u001b[0m main(MarketData1)\n",
      "Cell \u001b[1;32mIn[59], line 45\u001b[0m, in \u001b[0;36mmain\u001b[1;34m(MarketData)\u001b[0m\n\u001b[0;32m     43\u001b[0m     \u001b[39mbreak\u001b[39;00m\n\u001b[0;32m     44\u001b[0m \u001b[39mif\u001b[39;00m i\u001b[39m==\u001b[39m(\u001b[39mlen\u001b[39m(bidFuture)\u001b[39m-\u001b[39m\u001b[39m1\u001b[39m):\n\u001b[1;32m---> 45\u001b[0m     bidFuture\u001b[39m.\u001b[39;49minsert(i,Order)\n\u001b[0;32m     46\u001b[0m \u001b[39melse\u001b[39;00m:\n\u001b[0;32m     47\u001b[0m     \u001b[39mcontinue\u001b[39;00m\n",
      "\u001b[1;31mKeyboardInterrupt\u001b[0m: "
     ]
    }
   ],
   "source": [
    "#Time,Instrument,Operation,OrderId,Side,Volume,Price,Lifespan\n",
    "def main(MarketData):\n",
    "    #for now, lets make only the first few things\n",
    "    MarketData = MarketData[:50]\n",
    "    askETF,bidETF =[],[]\n",
    "    askFuture,bidFuture = [],[]\n",
    "\n",
    "\n",
    "    for Order in MarketData:\n",
    "        #NOW LIVE\n",
    "        if Order[2] == \"Cancel\":\n",
    "            continue\n",
    "        \n",
    "        \n",
    "        ###################WHAT THE MARKET DATA DOIN??\n",
    "        #FUTURE ORDER\n",
    "        if Order[1] == 0:\n",
    "\n",
    "            #ASK ORDER \n",
    "            if Order[4] == \"A\":\n",
    "                if len(askFuture)==0:\n",
    "                    askFuture.append(Order)\n",
    "                else:\n",
    "                    #we want the bottom value to be smallest, so start there\n",
    "                    for i in range(len(askFuture)-1, -1, -1):\n",
    "                        if askFuture[i][6] >= Order[6]:\n",
    "                            askFuture.insert(i,Order)\n",
    "                            break\n",
    "                        if i == 0:\n",
    "                            askFuture.insert(i,Order)\n",
    "                        else:\n",
    "                            continue\n",
    "\n",
    "            #BID ORDER 5 4 3 2 1\n",
    "            elif Order[4]==\"B\":\n",
    "                if len(bidFuture)==0:\n",
    "                    bidFuture.append(Order)\n",
    "                else:\n",
    "                    #we want the top value to be the biggest, so start there\n",
    "                    for i, x in enumerate(bidFuture):\n",
    "                        if x[6] <= Order[6]:\n",
    "                            bidFuture.insert(i,Order)\n",
    "                            break\n",
    "                        if i==(len(bidFuture)-1):\n",
    "                            bidFuture.insert(i,Order)\n",
    "                        else:\n",
    "                            continue\n",
    "            else:\n",
    "                print(\"Error with order \",Order[3],\": unidentified side\")\n",
    "        #ETF ORDER\n",
    "        elif Order[1] == 1:\n",
    "            askETF.append(Order)\n",
    "        else:\n",
    "            print(\"Error with order \",Order[3],\": unidentified instrument\")\n",
    "\n",
    "    print(bidFuture)\n",
    "\n",
    "main(MarketData1)"
   ]
  },
  {
   "attachments": {},
   "cell_type": "markdown",
   "metadata": {},
   "source": [
    "Here are the steps to calculate the z-score based on the moving average of a stock:\n",
    "\n",
    "Calculate the moving average of the stock. This is typically done by taking the average of the stock prices over a specified period of time. For example, a 50-day moving average would be the average of the last 50 days' closing prices.\n",
    "\n",
    "Calculate the standard deviation of the stock prices. This tells you how much the stock prices deviate from the mean. The formula for standard deviation is:\n",
    "\n",
    "σ = sqrt(Σ(x - μ)^2 / N)\n",
    "\n",
    "Where:\n",
    "\n",
    "x is each observation (the stock price)\n",
    "μ is the mean of the population (the moving average of the stock)\n",
    "N is the number of observations (in this case, the number of stock prices used to calculate the moving average)\n",
    "Once you have calculated the moving average and standard deviation, you can calculate the z-score for each stock price by using the formula above.\n",
    "\n",
    "For example, let's say the current stock price is $50, the 50-day moving average is $45, and the standard deviation of the stock prices is $5. To calculate the z-score, you would plug in these values as follows:\n",
    "\n",
    "z = (50 - 45) / 5\n",
    "z = 1\n",
    "\n",
    "This means that the current stock price is one standard deviation above the 50-day moving average.\n",
    "\n",
    "In our case, it would be 50 orders, or 50 seconds, whatever we choose. \n",
    "Then we can instaniouosly see how much the stock is deviated from the mean, and go from there, making sure to update the last 50 orders calculution every time we move forward a 'tick' "
   ]
  },
  {
   "cell_type": "code",
   "execution_count": null,
   "metadata": {},
   "outputs": [],
   "source": []
  }
 ],
 "metadata": {
  "kernelspec": {
   "display_name": "Python 3",
   "language": "python",
   "name": "python3"
  },
  "language_info": {
   "codemirror_mode": {
    "name": "ipython",
    "version": 3
   },
   "file_extension": ".py",
   "mimetype": "text/x-python",
   "name": "python",
   "nbconvert_exporter": "python",
   "pygments_lexer": "ipython3",
   "version": "3.10.10"
  },
  "orig_nbformat": 4
 },
 "nbformat": 4,
 "nbformat_minor": 2
}
