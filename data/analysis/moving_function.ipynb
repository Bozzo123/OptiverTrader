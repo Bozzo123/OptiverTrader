{
 "cells": [
  {
   "attachments": {},
   "cell_type": "markdown",
   "metadata": {},
   "source": [
    "# Moving graph\n",
    "\n",
    "The point of this will be to see if we can incorporate some z-score analysis in a real-time environment"
   ]
  },
  {
   "cell_type": "code",
   "execution_count": 30,
   "metadata": {},
   "outputs": [],
   "source": [
    "import pandas as pd\n",
    "import numpy as np\n",
    "import math\n",
    "import matplotlib.pyplot as plt\n",
    "from matplotlib import figure\n",
    "import csv"
   ]
  },
  {
   "cell_type": "code",
   "execution_count": 31,
   "metadata": {},
   "outputs": [],
   "source": [
    "def readMarketData(filepath):\n",
    "    df = pd.read_csv(filepath)\n",
    "    market_data = df.values\n",
    "    return(market_data)\n",
    "\n",
    "MarketData1 = readMarketData(\"../market_data1.csv\")\n"
   ]
  },
  {
   "cell_type": "code",
   "execution_count": 35,
   "metadata": {},
   "outputs": [
    {
     "name": "stdout",
     "output_type": "stream",
     "text": [
      "[0.0 0 'Insert' 177349435 'B' 1000.0 1469.0 'G']\n"
     ]
    }
   ],
   "source": [
    "#Time,Instrument,Operation,OrderId,Side,Volume,Price,Lifespan\n",
    "def main(MarketData):\n",
    "    #for now, lets make only the first few things\n",
    "    MarketData = MarketData[:100]\n",
    "    print(MarketData[0][0])\n",
    "    # for x in MarketData:\n",
    "    #     print(x)\n",
    "\n",
    "main(MarketData1)"
   ]
  }
 ],
 "metadata": {
  "kernelspec": {
   "display_name": "Python 3",
   "language": "python",
   "name": "python3"
  },
  "language_info": {
   "codemirror_mode": {
    "name": "ipython",
    "version": 3
   },
   "file_extension": ".py",
   "mimetype": "text/x-python",
   "name": "python",
   "nbconvert_exporter": "python",
   "pygments_lexer": "ipython3",
   "version": "3.10.10"
  },
  "orig_nbformat": 4
 },
 "nbformat": 4,
 "nbformat_minor": 2
}
